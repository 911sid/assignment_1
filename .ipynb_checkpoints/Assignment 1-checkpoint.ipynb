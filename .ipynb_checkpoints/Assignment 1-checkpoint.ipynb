{
 "cells": [
  {
   "cell_type": "markdown",
   "id": "5241cba3-5095-4504-8788-6077c630515c",
   "metadata": {},
   "source": [
    "SECTION A1"
   ]
  },
  {
   "cell_type": "code",
   "execution_count": 1,
   "id": "e3c736ad-7ef5-457c-8e65-80b54bbb4727",
   "metadata": {},
   "outputs": [],
   "source": [
    "!mkdir utils"
   ]
  },
  {
   "cell_type": "code",
   "execution_count": 2,
   "id": "af70d2bb-d368-426c-b89c-8e5cf8ab9e98",
   "metadata": {},
   "outputs": [],
   "source": [
    "!touch utils/lib.py"
   ]
  },
  {
   "cell_type": "markdown",
   "id": "3bd452e7-186e-4b79-b693-8681c7d55085",
   "metadata": {},
   "source": [
    "SECTION A2"
   ]
  },
  {
   "cell_type": "code",
   "execution_count": 3,
   "id": "be554f13-25ee-4b89-a372-44d4ca79aff9",
   "metadata": {},
   "outputs": [],
   "source": [
    "import utils.lib\n",
    "from utils.lib import var"
   ]
  },
  {
   "cell_type": "code",
   "execution_count": 4,
   "id": "3d46bfa2-7823-4ad1-ba68-3b48f57ad8cb",
   "metadata": {},
   "outputs": [
    {
     "data": {
      "text/plain": [
       "69"
      ]
     },
     "execution_count": 4,
     "metadata": {},
     "output_type": "execute_result"
    }
   ],
   "source": [
    "var"
   ]
  },
  {
   "cell_type": "code",
   "execution_count": 5,
   "id": "a6f82169-d7d9-4293-962e-b99db7c542b8",
   "metadata": {},
   "outputs": [
    {
     "data": {
      "text/plain": [
       "1"
      ]
     },
     "execution_count": 5,
     "metadata": {},
     "output_type": "execute_result"
    }
   ],
   "source": [
    "utils.lib.var1"
   ]
  },
  {
   "cell_type": "code",
   "execution_count": 6,
   "id": "bd048ac9-00c3-43af-8055-dafffbbe5bc8",
   "metadata": {},
   "outputs": [
    {
     "data": {
      "text/plain": [
       "2"
      ]
     },
     "execution_count": 6,
     "metadata": {},
     "output_type": "execute_result"
    }
   ],
   "source": [
    "utils.lib.var2"
   ]
  },
  {
   "cell_type": "markdown",
   "id": "c967dca8-5c64-44a6-9ebb-c397cb33c670",
   "metadata": {},
   "source": [
    "SECTION B"
   ]
  },
  {
   "cell_type": "code",
   "execution_count": 7,
   "id": "5fd4d858-b00c-40e4-a1a4-06d9e0ee8358",
   "metadata": {},
   "outputs": [],
   "source": [
    "veg = ['broccoli', 'zucchini', 'lettuce', 'cabbage']"
   ]
  },
  {
   "cell_type": "code",
   "execution_count": 8,
   "id": "b802ee9c-48bb-4bb8-b3a2-92015ef491c8",
   "metadata": {},
   "outputs": [
    {
     "data": {
      "text/plain": [
       "['__add__',\n",
       " '__class__',\n",
       " '__class_getitem__',\n",
       " '__contains__',\n",
       " '__delattr__',\n",
       " '__delitem__',\n",
       " '__dir__',\n",
       " '__doc__',\n",
       " '__eq__',\n",
       " '__format__',\n",
       " '__ge__',\n",
       " '__getattribute__',\n",
       " '__getitem__',\n",
       " '__getstate__',\n",
       " '__gt__',\n",
       " '__hash__',\n",
       " '__iadd__',\n",
       " '__imul__',\n",
       " '__init__',\n",
       " '__init_subclass__',\n",
       " '__iter__',\n",
       " '__le__',\n",
       " '__len__',\n",
       " '__lt__',\n",
       " '__mul__',\n",
       " '__ne__',\n",
       " '__new__',\n",
       " '__reduce__',\n",
       " '__reduce_ex__',\n",
       " '__repr__',\n",
       " '__reversed__',\n",
       " '__rmul__',\n",
       " '__setattr__',\n",
       " '__setitem__',\n",
       " '__sizeof__',\n",
       " '__str__',\n",
       " '__subclasshook__',\n",
       " 'append',\n",
       " 'clear',\n",
       " 'copy',\n",
       " 'count',\n",
       " 'extend',\n",
       " 'index',\n",
       " 'insert',\n",
       " 'pop',\n",
       " 'remove',\n",
       " 'reverse',\n",
       " 'sort']"
      ]
     },
     "execution_count": 8,
     "metadata": {},
     "output_type": "execute_result"
    }
   ],
   "source": [
    "dir(veg)"
   ]
  },
  {
   "cell_type": "code",
   "execution_count": 9,
   "id": "86762f66-9503-4db2-a9bb-4365e480dbc9",
   "metadata": {},
   "outputs": [
    {
     "data": {
      "text/plain": [
       "['__add__',\n",
       " '__class__',\n",
       " '__class_getitem__',\n",
       " '__contains__',\n",
       " '__delattr__',\n",
       " '__dir__',\n",
       " '__doc__',\n",
       " '__eq__',\n",
       " '__format__',\n",
       " '__ge__',\n",
       " '__getattribute__',\n",
       " '__getitem__',\n",
       " '__getnewargs__',\n",
       " '__getstate__',\n",
       " '__gt__',\n",
       " '__hash__',\n",
       " '__init__',\n",
       " '__init_subclass__',\n",
       " '__iter__',\n",
       " '__le__',\n",
       " '__len__',\n",
       " '__lt__',\n",
       " '__mul__',\n",
       " '__ne__',\n",
       " '__new__',\n",
       " '__reduce__',\n",
       " '__reduce_ex__',\n",
       " '__repr__',\n",
       " '__rmul__',\n",
       " '__setattr__',\n",
       " '__sizeof__',\n",
       " '__str__',\n",
       " '__subclasshook__',\n",
       " 'count',\n",
       " 'index']"
      ]
     },
     "execution_count": 9,
     "metadata": {},
     "output_type": "execute_result"
    }
   ],
   "source": [
    "dir(tuple(veg))"
   ]
  },
  {
   "cell_type": "code",
   "execution_count": 11,
   "id": "09f7774a-45f1-47f9-a2ec-121a7237b86c",
   "metadata": {},
   "outputs": [
    {
     "data": {
      "text/plain": [
       "['__add__',\n",
       " '__class__',\n",
       " '__contains__',\n",
       " '__delattr__',\n",
       " '__dir__',\n",
       " '__doc__',\n",
       " '__eq__',\n",
       " '__format__',\n",
       " '__ge__',\n",
       " '__getattribute__',\n",
       " '__getitem__',\n",
       " '__getnewargs__',\n",
       " '__getstate__',\n",
       " '__gt__',\n",
       " '__hash__',\n",
       " '__init__',\n",
       " '__init_subclass__',\n",
       " '__iter__',\n",
       " '__le__',\n",
       " '__len__',\n",
       " '__lt__',\n",
       " '__mod__',\n",
       " '__mul__',\n",
       " '__ne__',\n",
       " '__new__',\n",
       " '__reduce__',\n",
       " '__reduce_ex__',\n",
       " '__repr__',\n",
       " '__rmod__',\n",
       " '__rmul__',\n",
       " '__setattr__',\n",
       " '__sizeof__',\n",
       " '__str__',\n",
       " '__subclasshook__',\n",
       " 'capitalize',\n",
       " 'casefold',\n",
       " 'center',\n",
       " 'count',\n",
       " 'encode',\n",
       " 'endswith',\n",
       " 'expandtabs',\n",
       " 'find',\n",
       " 'format',\n",
       " 'format_map',\n",
       " 'index',\n",
       " 'isalnum',\n",
       " 'isalpha',\n",
       " 'isascii',\n",
       " 'isdecimal',\n",
       " 'isdigit',\n",
       " 'isidentifier',\n",
       " 'islower',\n",
       " 'isnumeric',\n",
       " 'isprintable',\n",
       " 'isspace',\n",
       " 'istitle',\n",
       " 'isupper',\n",
       " 'join',\n",
       " 'ljust',\n",
       " 'lower',\n",
       " 'lstrip',\n",
       " 'maketrans',\n",
       " 'partition',\n",
       " 'removeprefix',\n",
       " 'removesuffix',\n",
       " 'replace',\n",
       " 'rfind',\n",
       " 'rindex',\n",
       " 'rjust',\n",
       " 'rpartition',\n",
       " 'rsplit',\n",
       " 'rstrip',\n",
       " 'split',\n",
       " 'splitlines',\n",
       " 'startswith',\n",
       " 'strip',\n",
       " 'swapcase',\n",
       " 'title',\n",
       " 'translate',\n",
       " 'upper',\n",
       " 'zfill']"
      ]
     },
     "execution_count": 11,
     "metadata": {},
     "output_type": "execute_result"
    }
   ],
   "source": [
    "dir(str(veg))"
   ]
  },
  {
   "cell_type": "code",
   "execution_count": 31,
   "id": "8fab54bc-f0f1-426c-91d4-51a62d10a2e1",
   "metadata": {},
   "outputs": [],
   "source": [
    "food = {'pizza', 'burger', 'steak'}"
   ]
  },
  {
   "cell_type": "code",
   "execution_count": 32,
   "id": "8d3168da-7b9d-460b-af8c-f783d6ca96ac",
   "metadata": {},
   "outputs": [
    {
     "data": {
      "text/plain": [
       "\u001b[1;31mDocstring:\u001b[0m\n",
       "Add an element to a set.\n",
       "\n",
       "This has no effect if the element is already present.\n",
       "\u001b[1;31mType:\u001b[0m      builtin_function_or_method"
      ]
     },
     "metadata": {},
     "output_type": "display_data"
    }
   ],
   "source": [
    "food.add?"
   ]
  },
  {
   "cell_type": "code",
   "execution_count": 33,
   "id": "2ffb6cb4-4192-4a28-ad84-e1341b10487c",
   "metadata": {},
   "outputs": [
    {
     "data": {
      "text/plain": [
       "\u001b[1;31mDocstring:\u001b[0m\n",
       "Remove an element from a set; it must be a member.\n",
       "\n",
       "If the element is not a member, raise a KeyError.\n",
       "\u001b[1;31mType:\u001b[0m      builtin_function_or_method"
      ]
     },
     "metadata": {},
     "output_type": "display_data"
    }
   ],
   "source": [
    "food.remove?"
   ]
  },
  {
   "cell_type": "markdown",
   "id": "4dc80d1c-c391-4e91-b048-ec66b4493be9",
   "metadata": {},
   "source": [
    "SECTION B1"
   ]
  },
  {
   "cell_type": "code",
   "execution_count": 34,
   "id": "ec8f9e63-2e96-49ea-b988-5523bfd19978",
   "metadata": {},
   "outputs": [
    {
     "data": {
      "text/plain": [
       "['broccoli', 'zucchini', 'lettuce', 'cabbage']"
      ]
     },
     "execution_count": 34,
     "metadata": {},
     "output_type": "execute_result"
    }
   ],
   "source": [
    "veg"
   ]
  },
  {
   "cell_type": "code",
   "execution_count": 44,
   "id": "3de55584-e297-4cd5-a808-c615ce7a64d1",
   "metadata": {},
   "outputs": [],
   "source": [
    "x = enumerate(veg)"
   ]
  },
  {
   "cell_type": "code",
   "execution_count": 45,
   "id": "e6d36179-54e0-4418-9ebf-bebbaec7d652",
   "metadata": {},
   "outputs": [
    {
     "name": "stdout",
     "output_type": "stream",
     "text": [
      "[(0, 'broccoli'), (1, 'zucchini'), (2, 'lettuce'), (3, 'cabbage')]\n"
     ]
    }
   ],
   "source": [
    "print(list(x))"
   ]
  },
  {
   "cell_type": "code",
   "execution_count": 46,
   "id": "093d6290-417a-41a3-a173-d686b9c02836",
   "metadata": {},
   "outputs": [
    {
     "name": "stdout",
     "output_type": "stream",
     "text": [
      "0 broccoli\n",
      "1 zucchini\n",
      "2 lettuce\n",
      "3 cabbage\n"
     ]
    }
   ],
   "source": [
    "for i in range(len(veg)):\n",
    "    print (i, veg[i])"
   ]
  },
  {
   "cell_type": "code",
   "execution_count": 47,
   "id": "6553ed61-85cd-47d0-a2b3-97fdf1507b99",
   "metadata": {},
   "outputs": [
    {
     "data": {
      "text/plain": [
       "('broccoli', 'zucchini', 'lettuce', 'cabbage')"
      ]
     },
     "execution_count": 47,
     "metadata": {},
     "output_type": "execute_result"
    }
   ],
   "source": [
    "# data structure that maintains the order of your list: tuple\n",
    "veg_tuple = tuple(veg)\n",
    "veg_tuple"
   ]
  },
  {
   "cell_type": "code",
   "execution_count": 48,
   "id": "fd3a668e-975c-42bd-a9df-38c72f6716d3",
   "metadata": {},
   "outputs": [
    {
     "data": {
      "text/plain": [
       "{'broccoli', 'cabbage', 'lettuce', 'zucchini'}"
      ]
     },
     "execution_count": 48,
     "metadata": {},
     "output_type": "execute_result"
    }
   ],
   "source": [
    "# data structure that does not maintains the order of your list: set\n",
    "veg_set = set(veg)\n",
    "veg_set"
   ]
  },
  {
   "cell_type": "markdown",
   "id": "a8456ee7-b6af-4c8c-b5d4-e48dec0c3c33",
   "metadata": {},
   "source": [
    "SECTION B2"
   ]
  },
  {
   "cell_type": "code",
   "execution_count": 58,
   "id": "9fcc196c-c91a-49f3-8849-21ee026282a3",
   "metadata": {},
   "outputs": [
    {
     "ename": "TypeError",
     "evalue": "'tuple' object does not support item assignment",
     "output_type": "error",
     "traceback": [
      "\u001b[1;31m---------------------------------------------------------------------------\u001b[0m",
      "\u001b[1;31mTypeError\u001b[0m                                 Traceback (most recent call last)",
      "Cell \u001b[1;32mIn[58], line 2\u001b[0m\n\u001b[0;32m      1\u001b[0m veg_tuple[\u001b[38;5;241m1\u001b[39m]\n\u001b[1;32m----> 2\u001b[0m \u001b[43mveg_tuple\u001b[49m\u001b[43m[\u001b[49m\u001b[38;5;241;43m1\u001b[39;49m\u001b[43m]\u001b[49m \u001b[38;5;241m=\u001b[39m \u001b[38;5;124m'\u001b[39m\u001b[38;5;124mcucumber\u001b[39m\u001b[38;5;124m'\u001b[39m\n",
      "\u001b[1;31mTypeError\u001b[0m: 'tuple' object does not support item assignment"
     ]
    }
   ],
   "source": [
    "veg_tuple[1]\n",
    "veg_tuple[1] = 'cucumber'"
   ]
  },
  {
   "cell_type": "code",
   "execution_count": 56,
   "id": "3c4dd45c-5f76-42fc-beb1-e6aaeddb1734",
   "metadata": {},
   "outputs": [
    {
     "ename": "TypeError",
     "evalue": "'set' object is not subscriptable",
     "output_type": "error",
     "traceback": [
      "\u001b[1;31m---------------------------------------------------------------------------\u001b[0m",
      "\u001b[1;31mTypeError\u001b[0m                                 Traceback (most recent call last)",
      "Cell \u001b[1;32mIn[56], line 1\u001b[0m\n\u001b[1;32m----> 1\u001b[0m \u001b[38;5;28mprint\u001b[39m(\u001b[43mveg_set\u001b[49m\u001b[43m[\u001b[49m\u001b[38;5;241;43m1\u001b[39;49m\u001b[43m]\u001b[49m)\n",
      "\u001b[1;31mTypeError\u001b[0m: 'set' object is not subscriptable"
     ]
    }
   ],
   "source": [
    "print(veg_set[1])"
   ]
  },
  {
   "cell_type": "code",
   "execution_count": 60,
   "id": "12065694-e059-47d3-af79-7e623a94484a",
   "metadata": {},
   "outputs": [
    {
     "data": {
      "text/plain": [
       "{'broccoli', 'cabbage', 'cucumber', 'lettuce', 'zucchini'}"
      ]
     },
     "execution_count": 60,
     "metadata": {},
     "output_type": "execute_result"
    }
   ],
   "source": [
    "veg_set.add('cucumber')\n",
    "veg_set"
   ]
  },
  {
   "cell_type": "markdown",
   "id": "2645e11c-01d6-41fc-87bf-4a5a97bf59b4",
   "metadata": {},
   "source": [
    "SECTION B3"
   ]
  },
  {
   "cell_type": "code",
   "execution_count": 61,
   "id": "7c2572b3-c19c-4f34-906e-ca2928121d49",
   "metadata": {},
   "outputs": [],
   "source": [
    "# set > list = tuple"
   ]
  },
  {
   "cell_type": "code",
   "execution_count": 62,
   "id": "b89b0916-4902-4b4d-88c9-ade7395e96ad",
   "metadata": {},
   "outputs": [
    {
     "ename": "TypeError",
     "evalue": "unhashable type: 'list'",
     "output_type": "error",
     "traceback": [
      "\u001b[1;31m---------------------------------------------------------------------------\u001b[0m",
      "\u001b[1;31mTypeError\u001b[0m                                 Traceback (most recent call last)",
      "Cell \u001b[1;32mIn[62], line 1\u001b[0m\n\u001b[1;32m----> 1\u001b[0m \u001b[38;5;28;43mhash\u001b[39;49m\u001b[43m(\u001b[49m\u001b[43mveg\u001b[49m\u001b[43m)\u001b[49m\n",
      "\u001b[1;31mTypeError\u001b[0m: unhashable type: 'list'"
     ]
    }
   ],
   "source": [
    "hash(veg)"
   ]
  },
  {
   "cell_type": "code",
   "execution_count": 63,
   "id": "421fc634-b2d9-41e4-b6e6-d7efc323febe",
   "metadata": {},
   "outputs": [
    {
     "data": {
      "text/plain": [
       "-6456161315292462458"
      ]
     },
     "execution_count": 63,
     "metadata": {},
     "output_type": "execute_result"
    }
   ],
   "source": [
    "hash(veg_tuple)"
   ]
  },
  {
   "cell_type": "markdown",
   "id": "af1375dc-e33f-4b39-8c62-1b5920d810ae",
   "metadata": {},
   "source": [
    "SECTION B4"
   ]
  },
  {
   "cell_type": "code",
   "execution_count": 67,
   "id": "c4a6ce79-f3d0-4cc3-aaac-3e835f2d6496",
   "metadata": {},
   "outputs": [
    {
     "data": {
      "text/plain": [
       "[1, 2, {2, 3, 4}]"
      ]
     },
     "execution_count": 67,
     "metadata": {},
     "output_type": "execute_result"
    }
   ],
   "source": [
    "l = [1,2, {2,3,4}]\n",
    "l"
   ]
  },
  {
   "cell_type": "code",
   "execution_count": 69,
   "id": "3b6d7f1a-e9d2-430b-b2c0-86a0f7456147",
   "metadata": {},
   "outputs": [
    {
     "data": {
      "text/plain": [
       "{(1, 2), 1, 2}"
      ]
     },
     "execution_count": 69,
     "metadata": {},
     "output_type": "execute_result"
    }
   ],
   "source": [
    "s = {1,2, (1,2)}\n",
    "s"
   ]
  },
  {
   "cell_type": "code",
   "execution_count": 70,
   "id": "1c9df3e8-d3e6-4945-8ffa-d7cfee871a3d",
   "metadata": {},
   "outputs": [
    {
     "ename": "TypeError",
     "evalue": "unhashable type: 'set'",
     "output_type": "error",
     "traceback": [
      "\u001b[1;31m---------------------------------------------------------------------------\u001b[0m",
      "\u001b[1;31mTypeError\u001b[0m                                 Traceback (most recent call last)",
      "Cell \u001b[1;32mIn[70], line 1\u001b[0m\n\u001b[1;32m----> 1\u001b[0m s1 \u001b[38;5;241m=\u001b[39m {s}\n",
      "\u001b[1;31mTypeError\u001b[0m: unhashable type: 'set'"
     ]
    }
   ],
   "source": [
    "s1 = {s}"
   ]
  },
  {
   "cell_type": "code",
   "execution_count": 71,
   "id": "3707198a-b487-4019-830a-f8a0073bb407",
   "metadata": {},
   "outputs": [],
   "source": [
    "l1 = [l]"
   ]
  },
  {
   "cell_type": "markdown",
   "id": "8230bf9a-b59d-47f0-9dae-9f0545d92a9c",
   "metadata": {},
   "source": [
    "SECTION C"
   ]
  },
  {
   "cell_type": "code",
   "execution_count": 92,
   "id": "0f78e420-4ff6-4e9d-991e-2a60d96fa049",
   "metadata": {},
   "outputs": [],
   "source": [
    "l2 = [1,2,3,4,5,6,7,8]\n",
    "gen1 = (i for i in l2)"
   ]
  },
  {
   "cell_type": "code",
   "execution_count": 91,
   "id": "60da524d-fc79-467c-9fbe-e1e306821726",
   "metadata": {},
   "outputs": [
    {
     "name": "stdout",
     "output_type": "stream",
     "text": [
      "1\n",
      "2\n",
      "3\n",
      "4\n",
      "5\n",
      "6\n",
      "7\n",
      "8\n"
     ]
    }
   ],
   "source": [
    "for x in gen1:\n",
    "    print(x)"
   ]
  },
  {
   "cell_type": "code",
   "execution_count": 89,
   "id": "1ff2897d-84e4-4f19-a423-4ae4f5f679ea",
   "metadata": {},
   "outputs": [],
   "source": [
    "gen = (i for i in range(5))"
   ]
  },
  {
   "cell_type": "code",
   "execution_count": null,
   "id": "51099cdb-01cc-426b-b310-cebfdf0f6871",
   "metadata": {},
   "outputs": [],
   "source": [
    "print(next(gen))"
   ]
  },
  {
   "cell_type": "markdown",
   "id": "2c14d869-2015-4a8d-9cfd-7f345bfe6c0e",
   "metadata": {},
   "source": [
    "SECTION D"
   ]
  },
  {
   "cell_type": "code",
   "execution_count": 106,
   "id": "e807afa3-985b-4db3-bbe2-ce72c1033b4e",
   "metadata": {},
   "outputs": [],
   "source": [
    "features = {'color':'red','shape':'round', 'material':'metal'}\n",
    "def key_lookup(x = dict, y = any):\n",
    "    '''Returns the key associated with the value passed as argument, from the dictionary 'features'. Value should be a string and must exist in the dictionary.'''\n",
    "    for a,b in x.items():\n",
    "        if b == y:\n",
    "            return a"
   ]
  },
  {
   "cell_type": "code",
   "execution_count": 113,
   "id": "f730fa56-f3a8-4c4f-8b58-201b70aa35c1",
   "metadata": {},
   "outputs": [
    {
     "data": {
      "text/plain": [
       "'color'"
      ]
     },
     "execution_count": 113,
     "metadata": {},
     "output_type": "execute_result"
    }
   ],
   "source": [
    "key_lookup(features,'red')"
   ]
  },
  {
   "cell_type": "code",
   "execution_count": 114,
   "id": "5b11c087-3d14-42b4-9ab7-8094b90f9bcf",
   "metadata": {},
   "outputs": [
    {
     "data": {
      "text/plain": [
       "'material'"
      ]
     },
     "execution_count": 114,
     "metadata": {},
     "output_type": "execute_result"
    }
   ],
   "source": [
    "key_lookup(features,'metal')"
   ]
  },
  {
   "cell_type": "code",
   "execution_count": 109,
   "id": "87c84a1e-9fb5-41c3-a354-491893b48612",
   "metadata": {},
   "outputs": [
    {
     "data": {
      "text/plain": [
       "\u001b[1;31mSignature:\u001b[0m \u001b[0mkey_lookup\u001b[0m\u001b[1;33m(\u001b[0m\u001b[0mx\u001b[0m\u001b[1;33m=\u001b[0m\u001b[1;33m<\u001b[0m\u001b[1;32mclass\u001b[0m \u001b[1;34m'dict'\u001b[0m\u001b[1;33m>\u001b[0m\u001b[1;33m,\u001b[0m \u001b[0my\u001b[0m\u001b[1;33m=\u001b[0m\u001b[1;33m<\u001b[0m\u001b[0mbuilt\u001b[0m\u001b[1;33m-\u001b[0m\u001b[1;32min\u001b[0m \u001b[0mfunction\u001b[0m \u001b[0many\u001b[0m\u001b[1;33m>\u001b[0m\u001b[1;33m)\u001b[0m\u001b[1;33m\u001b[0m\u001b[1;33m\u001b[0m\u001b[0m\n",
       "\u001b[1;31mDocstring:\u001b[0m Returns the key associated with the value passed as argument, from the dictionary 'features'. Value should be a string here.\n",
       "\u001b[1;31mFile:\u001b[0m      c:\\users\\puran\\appdata\\local\\temp\\ipykernel_8244\\28120331.py\n",
       "\u001b[1;31mType:\u001b[0m      function"
      ]
     },
     "metadata": {},
     "output_type": "display_data"
    }
   ],
   "source": [
    "key_lookup?"
   ]
  },
  {
   "cell_type": "code",
   "execution_count": 132,
   "id": "d11d8d8f-be18-4292-a546-709da7e315cb",
   "metadata": {},
   "outputs": [],
   "source": [
    "def keyname(a = dict, b = any):\n",
    "    v = list(z for y,z in a.items())\n",
    "    k = list(y for y,z in a.items())\n",
    "    for i in range(len(v)):\n",
    "        if v[i]==b:\n",
    "            break\n",
    "    return k[i]\n",
    "        "
   ]
  },
  {
   "cell_type": "markdown",
   "id": "551e0308-8af8-4467-b3e5-693f00a2b096",
   "metadata": {},
   "source": [
    "SECTION E"
   ]
  },
  {
   "cell_type": "code",
   "execution_count": 157,
   "id": "c9963c76-c946-42ba-a8ac-8adc9b49a799",
   "metadata": {},
   "outputs": [],
   "source": [
    "def add_up(*args):\n",
    "    j = 0\n",
    "    for i in args:\n",
    "        j += i\n",
    "    return j"
   ]
  },
  {
   "cell_type": "code",
   "execution_count": null,
   "id": "272eca53-a6f6-49c7-90ac-b65fe2e0caed",
   "metadata": {},
   "outputs": [],
   "source": []
  },
  {
   "cell_type": "markdown",
   "id": "f1e6a3bf-5c4e-441b-b6d7-078097a9097c",
   "metadata": {},
   "source": [
    "SECTION F1"
   ]
  },
  {
   "cell_type": "code",
   "execution_count": 158,
   "id": "fcb3add2-ee9a-4c55-ba15-fc57fb4dff94",
   "metadata": {},
   "outputs": [],
   "source": [
    "def checknum(n):\n",
    "    if n>0:\n",
    "        print(f'{n} is positive.')\n",
    "    elif n<0:\n",
    "        print(f'{n} is negative.')\n",
    "    else:\n",
    "        print(f'{n} is zero.')"
   ]
  },
  {
   "cell_type": "code",
   "execution_count": null,
   "id": "630f9606-d52e-449a-a364-9c7eb1e16806",
   "metadata": {},
   "outputs": [],
   "source": []
  },
  {
   "cell_type": "markdown",
   "id": "7a892af2-5589-4db5-a477-b7d59ac21d99",
   "metadata": {},
   "source": [
    "SECTION F2"
   ]
  },
  {
   "cell_type": "code",
   "execution_count": 180,
   "id": "84f69d27-93af-45ae-a9ef-a8efadf21a4d",
   "metadata": {},
   "outputs": [
    {
     "name": "stdin",
     "output_type": "stream",
     "text": [
      "Enter number 3\n"
     ]
    },
    {
     "name": "stdout",
     "output_type": "stream",
     "text": [
      "3 x 1 = 3\n",
      "3 x 2 = 6\n",
      "3 x 3 = 9\n",
      "3 x 4 = 12\n",
      "3 x 5 = 15\n",
      "3 x 6 = 18\n",
      "3 x 7 = 21\n",
      "3 x 8 = 24\n",
      "3 x 9 = 27\n",
      "3 x 10 = 30\n"
     ]
    }
   ],
   "source": [
    "n = int(input(\"Enter number\"))\n",
    "for i in range(1,11):\n",
    "  print(f'{n} x {i} = {n*i}')"
   ]
  },
  {
   "cell_type": "code",
   "execution_count": 176,
   "id": "d2ba9bc8-865c-4bd9-ad2c-e9e4a91e99e6",
   "metadata": {},
   "outputs": [],
   "source": [
    "def tables20():\n",
    "    for i in range(1,21):\n",
    "        for j in range(1,11):\n",
    "            print(f'{i} x {j} = {i*j}')\n",
    "        print(\"\")"
   ]
  },
  {
   "cell_type": "code",
   "execution_count": 177,
   "id": "bb6bf61b-ea2d-44e4-8c44-0f71e8d4f632",
   "metadata": {},
   "outputs": [
    {
     "name": "stdout",
     "output_type": "stream",
     "text": [
      "1 x 1 = 1\n",
      "1 x 2 = 2\n",
      "1 x 3 = 3\n",
      "1 x 4 = 4\n",
      "1 x 5 = 5\n",
      "1 x 6 = 6\n",
      "1 x 7 = 7\n",
      "1 x 8 = 8\n",
      "1 x 9 = 9\n",
      "1 x 10 = 10\n",
      "\n",
      "2 x 1 = 2\n",
      "2 x 2 = 4\n",
      "2 x 3 = 6\n",
      "2 x 4 = 8\n",
      "2 x 5 = 10\n",
      "2 x 6 = 12\n",
      "2 x 7 = 14\n",
      "2 x 8 = 16\n",
      "2 x 9 = 18\n",
      "2 x 10 = 20\n",
      "\n",
      "3 x 1 = 3\n",
      "3 x 2 = 6\n",
      "3 x 3 = 9\n",
      "3 x 4 = 12\n",
      "3 x 5 = 15\n",
      "3 x 6 = 18\n",
      "3 x 7 = 21\n",
      "3 x 8 = 24\n",
      "3 x 9 = 27\n",
      "3 x 10 = 30\n",
      "\n",
      "4 x 1 = 4\n",
      "4 x 2 = 8\n",
      "4 x 3 = 12\n",
      "4 x 4 = 16\n",
      "4 x 5 = 20\n",
      "4 x 6 = 24\n",
      "4 x 7 = 28\n",
      "4 x 8 = 32\n",
      "4 x 9 = 36\n",
      "4 x 10 = 40\n",
      "\n",
      "5 x 1 = 5\n",
      "5 x 2 = 10\n",
      "5 x 3 = 15\n",
      "5 x 4 = 20\n",
      "5 x 5 = 25\n",
      "5 x 6 = 30\n",
      "5 x 7 = 35\n",
      "5 x 8 = 40\n",
      "5 x 9 = 45\n",
      "5 x 10 = 50\n",
      "\n",
      "6 x 1 = 6\n",
      "6 x 2 = 12\n",
      "6 x 3 = 18\n",
      "6 x 4 = 24\n",
      "6 x 5 = 30\n",
      "6 x 6 = 36\n",
      "6 x 7 = 42\n",
      "6 x 8 = 48\n",
      "6 x 9 = 54\n",
      "6 x 10 = 60\n",
      "\n",
      "7 x 1 = 7\n",
      "7 x 2 = 14\n",
      "7 x 3 = 21\n",
      "7 x 4 = 28\n",
      "7 x 5 = 35\n",
      "7 x 6 = 42\n",
      "7 x 7 = 49\n",
      "7 x 8 = 56\n",
      "7 x 9 = 63\n",
      "7 x 10 = 70\n",
      "\n",
      "8 x 1 = 8\n",
      "8 x 2 = 16\n",
      "8 x 3 = 24\n",
      "8 x 4 = 32\n",
      "8 x 5 = 40\n",
      "8 x 6 = 48\n",
      "8 x 7 = 56\n",
      "8 x 8 = 64\n",
      "8 x 9 = 72\n",
      "8 x 10 = 80\n",
      "\n",
      "9 x 1 = 9\n",
      "9 x 2 = 18\n",
      "9 x 3 = 27\n",
      "9 x 4 = 36\n",
      "9 x 5 = 45\n",
      "9 x 6 = 54\n",
      "9 x 7 = 63\n",
      "9 x 8 = 72\n",
      "9 x 9 = 81\n",
      "9 x 10 = 90\n",
      "\n",
      "10 x 1 = 10\n",
      "10 x 2 = 20\n",
      "10 x 3 = 30\n",
      "10 x 4 = 40\n",
      "10 x 5 = 50\n",
      "10 x 6 = 60\n",
      "10 x 7 = 70\n",
      "10 x 8 = 80\n",
      "10 x 9 = 90\n",
      "10 x 10 = 100\n",
      "\n",
      "11 x 1 = 11\n",
      "11 x 2 = 22\n",
      "11 x 3 = 33\n",
      "11 x 4 = 44\n",
      "11 x 5 = 55\n",
      "11 x 6 = 66\n",
      "11 x 7 = 77\n",
      "11 x 8 = 88\n",
      "11 x 9 = 99\n",
      "11 x 10 = 110\n",
      "\n",
      "12 x 1 = 12\n",
      "12 x 2 = 24\n",
      "12 x 3 = 36\n",
      "12 x 4 = 48\n",
      "12 x 5 = 60\n",
      "12 x 6 = 72\n",
      "12 x 7 = 84\n",
      "12 x 8 = 96\n",
      "12 x 9 = 108\n",
      "12 x 10 = 120\n",
      "\n",
      "13 x 1 = 13\n",
      "13 x 2 = 26\n",
      "13 x 3 = 39\n",
      "13 x 4 = 52\n",
      "13 x 5 = 65\n",
      "13 x 6 = 78\n",
      "13 x 7 = 91\n",
      "13 x 8 = 104\n",
      "13 x 9 = 117\n",
      "13 x 10 = 130\n",
      "\n",
      "14 x 1 = 14\n",
      "14 x 2 = 28\n",
      "14 x 3 = 42\n",
      "14 x 4 = 56\n",
      "14 x 5 = 70\n",
      "14 x 6 = 84\n",
      "14 x 7 = 98\n",
      "14 x 8 = 112\n",
      "14 x 9 = 126\n",
      "14 x 10 = 140\n",
      "\n",
      "15 x 1 = 15\n",
      "15 x 2 = 30\n",
      "15 x 3 = 45\n",
      "15 x 4 = 60\n",
      "15 x 5 = 75\n",
      "15 x 6 = 90\n",
      "15 x 7 = 105\n",
      "15 x 8 = 120\n",
      "15 x 9 = 135\n",
      "15 x 10 = 150\n",
      "\n",
      "16 x 1 = 16\n",
      "16 x 2 = 32\n",
      "16 x 3 = 48\n",
      "16 x 4 = 64\n",
      "16 x 5 = 80\n",
      "16 x 6 = 96\n",
      "16 x 7 = 112\n",
      "16 x 8 = 128\n",
      "16 x 9 = 144\n",
      "16 x 10 = 160\n",
      "\n",
      "17 x 1 = 17\n",
      "17 x 2 = 34\n",
      "17 x 3 = 51\n",
      "17 x 4 = 68\n",
      "17 x 5 = 85\n",
      "17 x 6 = 102\n",
      "17 x 7 = 119\n",
      "17 x 8 = 136\n",
      "17 x 9 = 153\n",
      "17 x 10 = 170\n",
      "\n",
      "18 x 1 = 18\n",
      "18 x 2 = 36\n",
      "18 x 3 = 54\n",
      "18 x 4 = 72\n",
      "18 x 5 = 90\n",
      "18 x 6 = 108\n",
      "18 x 7 = 126\n",
      "18 x 8 = 144\n",
      "18 x 9 = 162\n",
      "18 x 10 = 180\n",
      "\n",
      "19 x 1 = 19\n",
      "19 x 2 = 38\n",
      "19 x 3 = 57\n",
      "19 x 4 = 76\n",
      "19 x 5 = 95\n",
      "19 x 6 = 114\n",
      "19 x 7 = 133\n",
      "19 x 8 = 152\n",
      "19 x 9 = 171\n",
      "19 x 10 = 190\n",
      "\n",
      "20 x 1 = 20\n",
      "20 x 2 = 40\n",
      "20 x 3 = 60\n",
      "20 x 4 = 80\n",
      "20 x 5 = 100\n",
      "20 x 6 = 120\n",
      "20 x 7 = 140\n",
      "20 x 8 = 160\n",
      "20 x 9 = 180\n",
      "20 x 10 = 200\n",
      "\n"
     ]
    }
   ],
   "source": [
    "tables20()"
   ]
  },
  {
   "cell_type": "markdown",
   "id": "0b65c558-eb13-4bae-9589-94a3d4e99d04",
   "metadata": {},
   "source": [
    "SECTION G"
   ]
  },
  {
   "cell_type": "code",
   "execution_count": 181,
   "id": "27b5abf6-6b9c-4a9f-a234-009e706f7c8b",
   "metadata": {},
   "outputs": [],
   "source": [
    "new_list = [2,5,1,3,7,6,4,8]"
   ]
  },
  {
   "cell_type": "code",
   "execution_count": 184,
   "id": "e81f8f45-7334-4c38-b525-7f57b2831a02",
   "metadata": {},
   "outputs": [],
   "source": [
    "new_list.append(9)"
   ]
  },
  {
   "cell_type": "code",
   "execution_count": 185,
   "id": "a4cfb2d7-0afc-4e12-af0d-86bfda6c64dd",
   "metadata": {},
   "outputs": [
    {
     "data": {
      "text/plain": [
       "[2, 5, 1, 3, 7, 6, 4, 8, 9]"
      ]
     },
     "execution_count": 185,
     "metadata": {},
     "output_type": "execute_result"
    }
   ],
   "source": [
    "new_list"
   ]
  },
  {
   "cell_type": "code",
   "execution_count": 186,
   "id": "726044f2-409d-495a-ad4a-477fe4932cd2",
   "metadata": {},
   "outputs": [
    {
     "name": "stdout",
     "output_type": "stream",
     "text": [
      "[5, 1, 3, 7, 6, 4, 8]\n"
     ]
    }
   ],
   "source": [
    "print(new_list[1:8])"
   ]
  },
  {
   "cell_type": "markdown",
   "id": "4ab699a5-b125-4081-9827-f9dd3523c99a",
   "metadata": {},
   "source": [
    "SECTION H1"
   ]
  },
  {
   "cell_type": "code",
   "execution_count": 194,
   "id": "bc1f7181-9656-43a0-b454-0d4ca8ba6186",
   "metadata": {},
   "outputs": [],
   "source": [
    "def outer_fun():\n",
    "    a = 'This variable is global to all functions inside this function'\n",
    "    def inner_fun():\n",
    "        print('This is inside inner_fun')\n",
    "        print(a)\n",
    "    return inner_fun()"
   ]
  },
  {
   "cell_type": "code",
   "execution_count": null,
   "id": "37d9506f-d820-4cfa-88ae-ff32f8a69665",
   "metadata": {},
   "outputs": [],
   "source": []
  },
  {
   "cell_type": "markdown",
   "id": "7061afac-3cbc-4a87-9812-497052246539",
   "metadata": {},
   "source": [
    "SECTION H2"
   ]
  },
  {
   "cell_type": "code",
   "execution_count": 218,
   "id": "625364c2-9b65-4961-bd16-7de311d6ee5a",
   "metadata": {},
   "outputs": [],
   "source": [
    "def a_decorator(a):\n",
    "    def a_wrapper():\n",
    "        a()\n",
    "        print(\"Wrapper\")\n",
    "    return a_wrapper\n",
    "\n",
    "    "
   ]
  },
  {
   "cell_type": "code",
   "execution_count": 214,
   "id": "0ee1ff83-38bc-4e85-b1ce-564d50178fd8",
   "metadata": {},
   "outputs": [],
   "source": [
    "@a_decorator\n",
    "def hello_fun(hi):\n",
    "    print(hi)"
   ]
  },
  {
   "cell_type": "code",
   "execution_count": 215,
   "id": "2ad50101-b5d0-4c18-a449-39add0f9c8c0",
   "metadata": {},
   "outputs": [
    {
     "ename": "TypeError",
     "evalue": "a_decorator.<locals>.a_wrapper() takes 0 positional arguments but 1 was given",
     "output_type": "error",
     "traceback": [
      "\u001b[1;31m---------------------------------------------------------------------------\u001b[0m",
      "\u001b[1;31mTypeError\u001b[0m                                 Traceback (most recent call last)",
      "Cell \u001b[1;32mIn[215], line 1\u001b[0m\n\u001b[1;32m----> 1\u001b[0m \u001b[43mhello_fun\u001b[49m\u001b[43m(\u001b[49m\u001b[38;5;124;43m'\u001b[39;49m\u001b[38;5;124;43mthis should fail\u001b[39;49m\u001b[38;5;124;43m'\u001b[39;49m\u001b[43m)\u001b[49m\n",
      "\u001b[1;31mTypeError\u001b[0m: a_decorator.<locals>.a_wrapper() takes 0 positional arguments but 1 was given"
     ]
    }
   ],
   "source": [
    "hello_fun('this should fail')"
   ]
  },
  {
   "cell_type": "code",
   "execution_count": 240,
   "id": "7eae382f-4f0c-4a6a-863f-b7eb3e04ca99",
   "metadata": {},
   "outputs": [],
   "source": [
    "def b_decorator(a):\n",
    "    def b_wrapper(*args, **kwargs):\n",
    "        print('wrapper')\n",
    "        return a(*args, **kwargs)\n",
    "        \n",
    "    return b_wrapper\n"
   ]
  },
  {
   "cell_type": "code",
   "execution_count": 253,
   "id": "a4904363-bbd6-4713-9804-0cb58e480385",
   "metadata": {},
   "outputs": [],
   "source": [
    "@b_decorator\n",
    "def hi_fun(x):\n",
    "    print(x)"
   ]
  },
  {
   "cell_type": "code",
   "execution_count": 254,
   "id": "6b95c024-39f9-4fe4-a614-fbfc124cfb02",
   "metadata": {},
   "outputs": [
    {
     "name": "stdout",
     "output_type": "stream",
     "text": [
      "wrapper\n",
      "1\n"
     ]
    }
   ],
   "source": [
    "hi_fun(1)"
   ]
  },
  {
   "cell_type": "code",
   "execution_count": 261,
   "id": "4224df88-000c-442f-8cd6-9e6269aab6a3",
   "metadata": {},
   "outputs": [],
   "source": [
    "def say_hi(hi):\n",
    "    print('hi', hi)"
   ]
  },
  {
   "cell_type": "code",
   "execution_count": 262,
   "id": "768e5693-96e0-4ad0-ba8b-710469f5b1a6",
   "metadata": {},
   "outputs": [],
   "source": [
    "hi = b_decorator(say_hi)"
   ]
  },
  {
   "cell_type": "code",
   "execution_count": null,
   "id": "055a3315-19e1-43ba-95d3-66a8f12eb031",
   "metadata": {},
   "outputs": [],
   "source": []
  },
  {
   "cell_type": "markdown",
   "id": "f54e7101-c94b-4f22-b5b3-38b7946ff174",
   "metadata": {},
   "source": [
    "SECTION I1"
   ]
  },
  {
   "cell_type": "code",
   "execution_count": 273,
   "id": "49ce8b6a-3615-4468-8211-6e15a6709ba0",
   "metadata": {},
   "outputs": [],
   "source": [
    "odd_list = []\n",
    "for i in range(11):\n",
    "    if i%2 != 0:\n",
    "        odd_list.append(i)"
   ]
  },
  {
   "cell_type": "code",
   "execution_count": 274,
   "id": "803c40fd-1933-477d-81e9-6b396aa70def",
   "metadata": {},
   "outputs": [
    {
     "data": {
      "text/plain": [
       "[1, 3, 5, 7, 9]"
      ]
     },
     "execution_count": 274,
     "metadata": {},
     "output_type": "execute_result"
    }
   ],
   "source": [
    "odd_list"
   ]
  },
  {
   "cell_type": "code",
   "execution_count": 275,
   "id": "92907701-e3e8-44cf-ad5d-c72161a19282",
   "metadata": {},
   "outputs": [],
   "source": [
    "a_string = 'hello world'"
   ]
  },
  {
   "cell_type": "code",
   "execution_count": 276,
   "id": "2594132f-2645-4e0d-8dd3-a102ff666ad6",
   "metadata": {},
   "outputs": [],
   "source": [
    "a_set = {x for x in a_string}"
   ]
  },
  {
   "cell_type": "code",
   "execution_count": 277,
   "id": "49581d96-89cc-4c72-84c3-b03e618aab75",
   "metadata": {},
   "outputs": [
    {
     "data": {
      "text/plain": [
       "{' ', 'd', 'e', 'h', 'l', 'o', 'r', 'w'}"
      ]
     },
     "execution_count": 277,
     "metadata": {},
     "output_type": "execute_result"
    }
   ],
   "source": [
    "a_set"
   ]
  },
  {
   "cell_type": "markdown",
   "id": "6eb80999-76ac-4392-92ce-2b35abd72288",
   "metadata": {},
   "source": [
    "SECTION I2"
   ]
  },
  {
   "cell_type": "code",
   "execution_count": 278,
   "id": "221da03d-634b-4ab6-aff2-815a2804de15",
   "metadata": {},
   "outputs": [],
   "source": [
    "a_dict = {x:x**2 for x in range(0,6)}"
   ]
  },
  {
   "cell_type": "code",
   "execution_count": null,
   "id": "5e1027ba-b953-449a-82f2-7bffcbf3ec11",
   "metadata": {},
   "outputs": [],
   "source": []
  },
  {
   "cell_type": "markdown",
   "id": "1cfe565f-028f-421c-9537-5646d7497cd4",
   "metadata": {},
   "source": [
    "SECTION J1"
   ]
  },
  {
   "cell_type": "code",
   "execution_count": 1,
   "id": "91000863-b20f-4b66-bcdc-d09b5cea1e66",
   "metadata": {},
   "outputs": [],
   "source": [
    "grades = {'Sid':{'Math':69, 'Physics':89, 'Chemistry':95},\n",
    "         'Eve':{'Math':88, 'Physics':44, 'Chemistry':93},\n",
    "         'Jack':{'Math':59, 'Physics':55, 'Chemistry':57},\n",
    "          'John':{'Math':90, 'Physics':77, 'Chemistry':64},\n",
    "         }"
   ]
  },
  {
   "cell_type": "code",
   "execution_count": 2,
   "id": "b8492b20-fccd-42bb-aa31-0495e4197901",
   "metadata": {},
   "outputs": [
    {
     "data": {
      "text/plain": [
       "{'Math': 90, 'Physics': 77, 'Chemistry': 64}"
      ]
     },
     "execution_count": 2,
     "metadata": {},
     "output_type": "execute_result"
    }
   ],
   "source": [
    "grades['John']"
   ]
  },
  {
   "cell_type": "code",
   "execution_count": 3,
   "id": "b65c2a54-7c0a-4772-adcb-2bad6a3a7ecb",
   "metadata": {},
   "outputs": [
    {
     "data": {
      "text/plain": [
       "95"
      ]
     },
     "execution_count": 3,
     "metadata": {},
     "output_type": "execute_result"
    }
   ],
   "source": [
    "grades['Sid']['Chemistry']"
   ]
  },
  {
   "cell_type": "markdown",
   "id": "a54c5a5a-0881-485a-8350-467e9185de99",
   "metadata": {},
   "source": [
    "SECTION J2"
   ]
  },
  {
   "cell_type": "code",
   "execution_count": 4,
   "id": "56757a1a-c3a3-4ae2-aa60-92ba98e7c4ed",
   "metadata": {},
   "outputs": [],
   "source": [
    "grades['Eve']['Biology'] = 60"
   ]
  },
  {
   "cell_type": "code",
   "execution_count": 5,
   "id": "5459e651-2c74-4727-92ec-fdc4637450bd",
   "metadata": {},
   "outputs": [
    {
     "data": {
      "text/plain": [
       "{'Sid': {'Math': 69, 'Physics': 89, 'Chemistry': 95},\n",
       " 'Eve': {'Math': 88, 'Physics': 44, 'Chemistry': 93, 'Biology': 60},\n",
       " 'Jack': {'Math': 59, 'Physics': 55, 'Chemistry': 57},\n",
       " 'John': {'Math': 90, 'Physics': 77, 'Chemistry': 64}}"
      ]
     },
     "execution_count": 5,
     "metadata": {},
     "output_type": "execute_result"
    }
   ],
   "source": [
    "grades"
   ]
  },
  {
   "cell_type": "code",
   "execution_count": 6,
   "id": "91bc710f-71a7-481c-8d89-ae222127678d",
   "metadata": {},
   "outputs": [],
   "source": [
    "grades['Eve']['Physics'] = 60"
   ]
  },
  {
   "cell_type": "code",
   "execution_count": 7,
   "id": "2ada044c-5faf-4851-acd5-e20e077651d9",
   "metadata": {},
   "outputs": [],
   "source": [
    "grades['Sid'].update({'Chemistry':84})"
   ]
  },
  {
   "cell_type": "code",
   "execution_count": 8,
   "id": "dd2b38bd-04aa-4c21-a37e-bce83e5b3947",
   "metadata": {},
   "outputs": [
    {
     "data": {
      "text/plain": [
       "{'Sid': {'Math': 69, 'Physics': 89, 'Chemistry': 84},\n",
       " 'Eve': {'Math': 88, 'Physics': 60, 'Chemistry': 93, 'Biology': 60},\n",
       " 'Jack': {'Math': 59, 'Physics': 55, 'Chemistry': 57},\n",
       " 'John': {'Math': 90, 'Physics': 77, 'Chemistry': 64}}"
      ]
     },
     "execution_count": 8,
     "metadata": {},
     "output_type": "execute_result"
    }
   ],
   "source": [
    "grades"
   ]
  },
  {
   "cell_type": "code",
   "execution_count": 9,
   "id": "28c6806d-9b45-4655-826c-4a58f46f29b1",
   "metadata": {},
   "outputs": [
    {
     "data": {
      "text/plain": [
       "{'Math': 59, 'Physics': 55, 'Chemistry': 57}"
      ]
     },
     "execution_count": 9,
     "metadata": {},
     "output_type": "execute_result"
    }
   ],
   "source": [
    "grades.get('Jack')"
   ]
  },
  {
   "cell_type": "code",
   "execution_count": 10,
   "id": "8e04e9e5-6380-439d-bb7b-920dd2249f2b",
   "metadata": {},
   "outputs": [],
   "source": [
    "grades.get('Meow')"
   ]
  },
  {
   "cell_type": "markdown",
   "id": "a7f86f7d-46c4-4a6f-8705-38fa9b232d1d",
   "metadata": {},
   "source": [
    "SECTION J3"
   ]
  },
  {
   "cell_type": "code",
   "execution_count": 11,
   "id": "91785748-3a87-4a7a-81b6-d080f1bb4d24",
   "metadata": {},
   "outputs": [
    {
     "name": "stdout",
     "output_type": "stream",
     "text": [
      "Sid {'Math': 69, 'Physics': 89, 'Chemistry': 84}\n",
      "Eve {'Math': 88, 'Physics': 60, 'Chemistry': 93, 'Biology': 60}\n",
      "Jack {'Math': 59, 'Physics': 55, 'Chemistry': 57}\n",
      "John {'Math': 90, 'Physics': 77, 'Chemistry': 64}\n"
     ]
    }
   ],
   "source": [
    "for i,j in grades.items():\n",
    "    print(i,j)"
   ]
  },
  {
   "cell_type": "markdown",
   "id": "9bcb6a2d-8b1c-4bb0-a0e5-7587d252c211",
   "metadata": {},
   "source": [
    "SECTION K"
   ]
  },
  {
   "cell_type": "code",
   "execution_count": 18,
   "id": "105362ed-2f88-4bb4-abce-07aaaff4744e",
   "metadata": {},
   "outputs": [],
   "source": [
    "def fib(n):\n",
    "    if n == 0:\n",
    "        return 0\n",
    "    elif n ==1:\n",
    "        return 1\n",
    "    else:\n",
    "        return fib(n - 1) + fib(n-2)"
   ]
  },
  {
   "cell_type": "code",
   "execution_count": null,
   "id": "6fc2327a-b4f2-4b61-9d21-3163266ce7af",
   "metadata": {},
   "outputs": [],
   "source": []
  },
  {
   "cell_type": "markdown",
   "id": "44bc2ca8-9e56-45ae-8a3f-2f5df18f50cf",
   "metadata": {},
   "source": [
    "SECTION L"
   ]
  },
  {
   "cell_type": "code",
   "execution_count": 20,
   "id": "6b315c32-3569-4125-8ea4-8dd1664ab818",
   "metadata": {},
   "outputs": [],
   "source": [
    "# HELPFUL PROPERTIES:\n",
    "# no need to define a function every time, can just create instances\n",
    "# can inherit attributes from one class to another"
   ]
  },
  {
   "cell_type": "code",
   "execution_count": null,
   "id": "f43902d1-6686-4c20-8657-9c3000701793",
   "metadata": {},
   "outputs": [],
   "source": []
  }
 ],
 "metadata": {
  "kernelspec": {
   "display_name": "Python 3 (ipykernel)",
   "language": "python",
   "name": "python3"
  },
  "language_info": {
   "codemirror_mode": {
    "name": "ipython",
    "version": 3
   },
   "file_extension": ".py",
   "mimetype": "text/x-python",
   "name": "python",
   "nbconvert_exporter": "python",
   "pygments_lexer": "ipython3",
   "version": "3.12.7"
  }
 },
 "nbformat": 4,
 "nbformat_minor": 5
}
